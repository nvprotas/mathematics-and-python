{
 "cells": [
  {
   "cell_type": "markdown",
   "metadata": {},
   "source": [
    "# Задача 1\n",
    "Получаем очищенный список слов в предложениях"
   ]
  },
  {
   "cell_type": "code",
   "execution_count": 86,
   "metadata": {},
   "outputs": [],
   "source": [
    "import re\n",
    "import numpy as np\n",
    "from scipy.spatial.distance import cosine"
   ]
  },
  {
   "cell_type": "code",
   "execution_count": 57,
   "metadata": {},
   "outputs": [],
   "source": [
    "file = open(\"sentences.txt\", 'r')\n",
    "string_list = list(file)\n",
    "lowered_list = map(lambda x: x.lower(), string_list)\n",
    "\n",
    "splitted_list = map(lambda x: re.split('[^a-z]', x) , lowered_list)\n",
    "\n",
    "cleared_list = []\n",
    "k = 0\n",
    "for line in splitted_list:\n",
    "    cleared_list.append([]) \n",
    "    for elem in line:\n",
    "        if elem != '':\n",
    "            cleared_list[k].append(elem)\n",
    "    k = k+1"
   ]
  },
  {
   "cell_type": "markdown",
   "metadata": {},
   "source": [
    "Получаем словарь, с подсчитанным количеством употреблений слов"
   ]
  },
  {
   "cell_type": "code",
   "execution_count": 58,
   "metadata": {},
   "outputs": [],
   "source": [
    "dict = {}\n",
    "for line in cleared_list:\n",
    "    for word in line:\n",
    "        count = dict.pop(word, -1)\n",
    "        if count == -1:\n",
    "            dict[word] = 1\n",
    "        else:\n",
    "            dict[word] = count + 1"
   ]
  },
  {
   "cell_type": "markdown",
   "metadata": {},
   "source": [
    "Составляем таблицу:\n",
    "    "
   ]
  },
  {
   "cell_type": "markdown",
   "metadata": {},
   "source": [
    "Создайте матрицу размера n x d, где n — число предложений. Заполните ее: элемент с индексом (i, j) в этой матрице должен быть равен количеству вхождений j-го слова в i-е предложение. У вас должна получиться матрица размера 22 * 254."
   ]
  },
  {
   "cell_type": "code",
   "execution_count": 80,
   "metadata": {},
   "outputs": [
    {
     "name": "stdout",
     "output_type": "stream",
     "text": [
      "[[0. 0. 0. ... 1. 0. 0.]\n",
      " [0. 0. 0. ... 0. 0. 0.]\n",
      " [0. 0. 0. ... 1. 0. 0.]\n",
      " ...\n",
      " [0. 0. 0. ... 2. 0. 0.]\n",
      " [0. 0. 0. ... 1. 0. 0.]\n",
      " [0. 0. 0. ... 1. 0. 0.]]\n"
     ]
    }
   ],
   "source": [
    "max_Len = 0\n",
    "for line in cleared_list:\n",
    "    if max_Len < len(line):\n",
    "        max_Len = len(line)\n",
    "# print max_Len\n",
    "# len(dict)\n",
    "\n",
    "# \n",
    "tab = np.zeros((len(cleared_list),len(dict)))\n",
    "tab.shape\n",
    "\n",
    "word_list = dict.keys()\n",
    "\n",
    "for k in range(len(cleared_list)):\n",
    "    for l in range(len(word_list)):\n",
    "        tab[k,l] = cleared_list[k].count(word_list[l])\n",
    "print tab"
   ]
  },
  {
   "cell_type": "markdown",
   "metadata": {},
   "source": [
    "Ищем косинусное расстояние"
   ]
  },
  {
   "cell_type": "code",
   "execution_count": 98,
   "metadata": {},
   "outputs": [
    {
     "name": "stdout",
     "output_type": "stream",
     "text": [
      "6\n",
      "0.7327387580875756\n",
      "4\n",
      "0.7770887149698589\n"
     ]
    }
   ],
   "source": [
    "min1 = 10000\n",
    "mini1 = 0\n",
    "min2 = 10000\n",
    "mini2 = 0\n",
    "for k in range(1,22):\n",
    "    if cosine(tab[0], tab[k]) <= min1:\n",
    "        min2 = min1\n",
    "        mini2 = mini1;\n",
    "        min1 = cosine(tab[0], tab[k])\n",
    "        mini1 = k\n",
    "    elif cosine(tab[0], tab[k]) < min2:\n",
    "        min2 = cosine(tab[0], tab[k])\n",
    "        mini2 = k\n",
    "\n",
    "print mini1\n",
    "print min1\n",
    "print mini2\n",
    "print min2"
   ]
  }
 ],
 "metadata": {
  "kernelspec": {
   "display_name": "Python 2",
   "language": "python",
   "name": "python2"
  },
  "language_info": {
   "codemirror_mode": {
    "name": "ipython",
    "version": 2
   },
   "file_extension": ".py",
   "mimetype": "text/x-python",
   "name": "python",
   "nbconvert_exporter": "python",
   "pygments_lexer": "ipython2",
   "version": "2.7.15"
  }
 },
 "nbformat": 4,
 "nbformat_minor": 2
}
